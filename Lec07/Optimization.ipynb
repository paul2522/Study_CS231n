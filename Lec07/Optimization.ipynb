{
 "cells": [
  {
   "cell_type": "markdown",
   "metadata": {},
   "source": [
    "# Optimization"
   ]
  },
  {
   "cell_type": "markdown",
   "metadata": {},
   "source": [
    "* loss function : 가중치가 얼마나 일을 잘하는지 가르쳐준다.\n",
    "* (6-14) : x,y 축이 가중치이고 색이 loss 값 \n",
    "* stochastic gradient descent : parameter vector를 negative direction of gradient로 업데이트"
   ]
  },
  {
   "cell_type": "markdown",
   "metadata": {},
   "source": [
    "* (6-16) : 경사 방향이 최소값 방향과 정렬되지 않기 때문에 지그재그 - 고차원에서 발생"
   ]
  },
  {
   "cell_type": "markdown",
   "metadata": {},
   "source": [
    "* SGD 문제점 : saddle point에서 기울기가 0이 되면서 중간에서 막힌다.\n",
    "* saddle point 근처에서 기울기가 너무 작아서 너무 느리게 움직인다.\n",
    "* 현재 지점에서 얻는게 진짜 기울기가 아니고 noise 추정치 일 수 있다. - 불필요한 계산이 많아짐"
   ]
  },
  {
   "cell_type": "markdown",
   "metadata": {},
   "source": [
    "## Momentum"
   ]
  },
  {
   "cell_type": "markdown",
   "metadata": {},
   "source": [
    "* SGD(확률적 경사 하강법) + Momentum(운동량 항)\n",
    "* 속도가 생기기 때문에 Local Minima 또는 Saddle points 문제점을 해결 가능\n",
    "* 지그재그 또한 모멘텀이 많이 상쇄시킨다."
   ]
  },
  {
   "cell_type": "markdown",
   "metadata": {},
   "source": [
    "* Gradient 와 Velocity의 가중 평균 보통\n",
    "* Nesterov Momentum : Velocity를 더하고 거기서 기울기를 구한뒤 그 둘을 섞는다.\n",
    "* vanilla momentum과 비교해서 overshooting 되지않는다."
   ]
  },
  {
   "cell_type": "markdown",
   "metadata": {},
   "source": [
    "## AdaGrad"
   ]
  },
  {
   "cell_type": "markdown",
   "metadata": {},
   "source": [
    "* momentum의 속도 대신에 gradient 제곱값을 가진다.\n",
    "* Scaling 적용 지그재그 해소\n",
    "* 시간이 지남에 따라 기울기 제곱을 갱신하면서 값이 계속 줄어들면서 안장 문제가 발생할 수 있음\n",
    "* 볼록한 경우 매우 좋다.\n",
    "* 잘 안쓴다."
   ]
  },
  {
   "cell_type": "markdown",
   "metadata": {},
   "source": [
    "## RMSProp"
   ]
  },
  {
   "cell_type": "markdown",
   "metadata": {},
   "source": [
    "* 기울기 제곱의 추정값을 유지하지만 계속 누적시키는게 아니라 제곱 추정값이 감소하게 함.\n",
    "* 제곱 값에 감쇠율을 곱한다.\n",
    "* 시간이 지남에 따라 속도가 느려지는 것을 해결 가능"
   ]
  },
  {
   "cell_type": "markdown",
   "metadata": {},
   "source": [
    "## Adam"
   ]
  },
  {
   "cell_type": "markdown",
   "metadata": {},
   "source": [
    "* 첫 번째 moment와  두 번째 moment의 추정치를 유지합니다.\n",
    "* 첫 번째는 Momentum이고 두 번째는 AdaGrad/RMSProp"
   ]
  },
  {
   "cell_type": "markdown",
   "metadata": {},
   "source": [
    "* 초반에 second moment가 0이라 매우 작은 값으로 나누기 때문에 step이 매우 크다.\n",
    "* 그래서 초반에 망칠 수 있기 때문에 이를 조절하는 bias를 가진다."
   ]
  },
  {
   "cell_type": "markdown",
   "metadata": {},
   "source": [
    "## Learning Rate"
   ]
  },
  {
   "cell_type": "markdown",
   "metadata": {},
   "source": [
    "* 높은 값에서 감소 시켜라\n",
    "* 모델마다 조금씩 다름"
   ]
  }
 ],
 "metadata": {
  "kernelspec": {
   "display_name": "Python 3.10.4 64-bit",
   "language": "python",
   "name": "python3"
  },
  "language_info": {
   "name": "python",
   "version": "3.10.4"
  },
  "orig_nbformat": 4,
  "vscode": {
   "interpreter": {
    "hash": "916dbcbb3f70747c44a77c7bcd40155683ae19c65e1c03b4aa3499c5328201f1"
   }
  }
 },
 "nbformat": 4,
 "nbformat_minor": 2
}
