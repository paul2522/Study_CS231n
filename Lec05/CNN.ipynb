{
 "cells": [
  {
   "cell_type": "markdown",
   "metadata": {},
   "source": [
    "# CNN"
   ]
  },
  {
   "cell_type": "markdown",
   "metadata": {},
   "source": [
    "## Fully Connected Layer"
   ]
  },
  {
   "cell_type": "markdown",
   "metadata": {},
   "source": [
    "* 32 x 32 x 3 -> stretch to 3072 x 1\n",
    "* 3072, 10 x 3072, 1 x 10 \n",
    "* 모든 뉴런들이 서로 다 연결되어있는 Layer\n",
    "* 1차원 배열 형태로 평탄화 용도로 사용"
   ]
  },
  {
   "cell_type": "markdown",
   "metadata": {},
   "source": [
    "## Convolution Layer - 1"
   ]
  },
  {
   "cell_type": "markdown",
   "metadata": {},
   "source": [
    "Fully Connected Layer 와의 차별성\n",
    "* 데이터의 형상 유지\n",
    "* 학습 파라미터의 개수를 현저히 줄일 수 있음"
   ]
  },
  {
   "cell_type": "markdown",
   "metadata": {},
   "source": [
    "* Filter 를 적용함\n",
    "* Filter 의 깊이는 항상 input volume 깊이만큼 있어야함\n",
    "* image : 32 x 32 x 3, filter(1개) : 5 x 5 x 3, output : 28 x 28\n",
    "* w<sup>T</sup>x + b : 매트릭스 계산을 위해 transpose"
   ]
  },
  {
   "cell_type": "markdown",
   "metadata": {},
   "source": [
    "* 필터의 개수만큼 output의 차원의 개수는 증가 하되 padding을 안하면 width height의 크기는 줄어든다.\n",
    "* 32 x 32 x 3 -> 6개의 5 x 5 x 3  = 28 x 28 x 6\n",
    "* 28 x 28 x 6 -> 10개의 5 x 5 x 6 = 24 x 24 x 10"
   ]
  },
  {
   "cell_type": "markdown",
   "metadata": {},
   "source": [
    "* Layer를 거치면서 Low_level 에서 High_level의 feature 들을 계산한다.\n",
    "* level이 높다는건 더 복잡한 특징(low : 에지, medium : 얼룩이나 모서리)\n",
    "* 결국 layer를 쌓아가면서 간단한 특징부터 복잡한 특징까지 잡아내는 과정"
   ]
  },
  {
   "cell_type": "markdown",
   "metadata": {},
   "source": [
    "* pool layer로 downsampling\n",
    "* 여러 layer를 거친 최종값으로 score를 구해서 category 예측"
   ]
  },
  {
   "cell_type": "markdown",
   "metadata": {},
   "source": [
    "## Convolution Layer - 2"
   ]
  },
  {
   "cell_type": "markdown",
   "metadata": {},
   "source": [
    "* input : 7 x 7, kernel : 3 x 3  칸에 맞춰서 끝까지 간다면 output : 5 x 5\n",
    "* stride 값 : kernel이 한번에 이동하는 값\n",
    "* 위에서 stride를 2를 주면 output : 3 x 3\n",
    "* stride 3을 주면 칸이 안맞으므로 넣지 못한다.\n",
    "* (input - filter) / stride + 1 해당값이\n",
    "* 모서리값을 사용하기 위해 zero padding\n",
    "* 주로 stride 1, filter size F x F 에선 zero padding size (F-1)/2\n",
    "* 파라미터 개수는 filter로 구함 = filter 개수 * F * F * 3 + 1(bias)"
   ]
  },
  {
   "cell_type": "markdown",
   "metadata": {},
   "source": [
    "1 x 1 CONV : 차원을 효과적으로 줄일 수 있다."
   ]
  },
  {
   "cell_type": "markdown",
   "metadata": {},
   "source": [
    "Spatial Diemension : 공간차원"
   ]
  },
  {
   "cell_type": "markdown",
   "metadata": {},
   "source": [
    "## Brain/Neuron view of CONV Layer"
   ]
  },
  {
   "cell_type": "markdown",
   "metadata": {},
   "source": [
    "* 5x5 filter : 5x5 receptive field for each neuron\n",
    "* receptive field : 출력 레이어의 뉴런하나에 입력 레이어에 영향을 미치는 크기"
   ]
  },
  {
   "cell_type": "markdown",
   "metadata": {},
   "source": [
    "## Pooling Layer"
   ]
  },
  {
   "cell_type": "markdown",
   "metadata": {},
   "source": [
    "* 대상을 낮춰서 다루기 쉽게 만듬\n",
    "* 각각의 activation map의 실행"
   ]
  },
  {
   "cell_type": "markdown",
   "metadata": {},
   "source": [
    "Max pooling\n",
    "* 필터 사이즈 내에서 가장 큰거 가져옴"
   ]
  },
  {
   "cell_type": "markdown",
   "metadata": {},
   "source": [
    "## brain"
   ]
  }
 ],
 "metadata": {
  "kernelspec": {
   "display_name": "Python 3.10.4 64-bit",
   "language": "python",
   "name": "python3"
  },
  "language_info": {
   "name": "python",
   "version": "3.10.4"
  },
  "orig_nbformat": 4,
  "vscode": {
   "interpreter": {
    "hash": "916dbcbb3f70747c44a77c7bcd40155683ae19c65e1c03b4aa3499c5328201f1"
   }
  }
 },
 "nbformat": 4,
 "nbformat_minor": 2
}
