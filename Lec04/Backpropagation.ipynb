{
 "cells": [
  {
   "cell_type": "markdown",
   "metadata": {},
   "source": [
    "# Backpropagation"
   ]
  },
  {
   "cell_type": "markdown",
   "metadata": {},
   "source": [
    "recursive application of chain rule  \n",
    "뒤로 돌아가면서 gradient를 구하는 방식"
   ]
  },
  {
   "cell_type": "markdown",
   "metadata": {},
   "source": [
    "* f(x,y,z) = (x+y)z\n",
    "* q = x+y, f = q*z\n",
    "* dq/dx = 1, dq/dy = 1\n",
    "* df/dq = z, df/dz = q\n",
    "* we want df/dx, df/dy, df/dz"
   ]
  },
  {
   "cell_type": "markdown",
   "metadata": {},
   "source": [
    "1. df/df = 1\n",
    "2. df/dz = q\n",
    "3. df/dq = z\n",
    "4. df/dy = df/dq * dq/dy = z * 1 = z\n",
    "5. df/dx = df/dq * dq/dx = z * 1 = z"
   ]
  },
  {
   "cell_type": "markdown",
   "metadata": {},
   "source": [
    "local input : x, y  \n",
    "output : z  \n",
    "local gradient : dz/dx ,dz/dy"
   ]
  },
  {
   "cell_type": "markdown",
   "metadata": {},
   "source": [
    "14:00까지 봤음"
   ]
  }
 ],
 "metadata": {
  "language_info": {
   "name": "python"
  },
  "orig_nbformat": 4
 },
 "nbformat": 4,
 "nbformat_minor": 2
}
