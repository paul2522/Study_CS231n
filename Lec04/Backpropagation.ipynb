{
 "cells": [
  {
   "cell_type": "markdown",
   "metadata": {},
   "source": [
    "# Backpropagation"
   ]
  },
  {
   "cell_type": "markdown",
   "metadata": {},
   "source": [
    "- recursive application of chain rule  \n",
    "- 뒤로 돌아가면서 gradient를 구하는 방식  \n",
    "- 미분을 효율적으로 구할 수 있다.  \n",
    "- 가중치에 대한 학습을 하기 위해(가중치의 변화값을 주기 위해) 뒤로 돌아가면서 보기  \n",
    "- (한번에 출력값에서 입력값으로 못 가니까 단계씩 하기)  \n",
    "- 한번에 구하게 되면 메모리가 버티질 못함. 너무 크기 때문\n",
    "- 하나의 변수로 미분한다해도 결국 가장 최근 레이어에 대한 정보가 제일 크다."
   ]
  },
  {
   "cell_type": "markdown",
   "metadata": {},
   "source": [
    "* f(x,y,z) = (x+y)z\n",
    "* q = x+y, f = q*z\n",
    "* dq/dx = 1, dq/dy = 1\n",
    "* df/dq = z, df/dz = q\n",
    "* we want df/dx, df/dy, df/dz"
   ]
  },
  {
   "cell_type": "markdown",
   "metadata": {},
   "source": [
    "1. df/df = 1\n",
    "2. df/dz = q\n",
    "3. df/dq = z\n",
    "4. df/dy = df/dq * dq/dy = z * 1 = z\n",
    "5. df/dx = df/dq * dq/dx = z * 1 = z"
   ]
  },
  {
   "cell_type": "markdown",
   "metadata": {},
   "source": [
    "* local input : x, y  \n",
    "* output : z  \n",
    "* local gradient : dz/dx ,dz/dy\n",
    "* z gradient : dL/dz\n",
    "* x gradient : dL/dz * dz/dx = dL/dx\n",
    "* y gradient : dL/dz * dz/dx = dL/dy"
   ]
  },
  {
   "cell_type": "markdown",
   "metadata": {},
   "source": [
    "역전파를 통해서 상위 단계에서 내려온 숫자 값의 기울기를 구할 수 있고  \n",
    "이를 local 기울기에 곱해서 바로 연결된 노드로 보낸다."
   ]
  }
 ],
 "metadata": {
  "kernelspec": {
   "display_name": "Python 3.10.4 64-bit",
   "language": "python",
   "name": "python3"
  },
  "language_info": {
   "name": "python",
   "version": "3.10.4"
  },
  "orig_nbformat": 4,
  "vscode": {
   "interpreter": {
    "hash": "916dbcbb3f70747c44a77c7bcd40155683ae19c65e1c03b4aa3499c5328201f1"
   }
  }
 },
 "nbformat": 4,
 "nbformat_minor": 2
}
