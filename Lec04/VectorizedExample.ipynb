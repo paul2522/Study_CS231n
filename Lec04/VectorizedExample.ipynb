{
 "cells": [
  {
   "cell_type": "markdown",
   "metadata": {},
   "source": [
    "# VectorizedExample"
   ]
  },
  {
   "cell_type": "markdown",
   "metadata": {},
   "source": [
    "input 값이 여러개의 변수 값들이 들어가는 것은 벡터가 들어간다고 볼 수 있다."
   ]
  },
  {
   "cell_type": "markdown",
   "metadata": {},
   "source": [
    "## 선수 지식 : 행렬의 미분"
   ]
  },
  {
   "cell_type": "markdown",
   "metadata": {},
   "source": [
    "### 행렬과 벡터의 곱의 미분"
   ]
  },
  {
   "cell_type": "markdown",
   "metadata": {},
   "source": [
    "f(x) = Ax\n",
    "\n",
    "f`(x) = A<sup>T</sup>"
   ]
  },
  {
   "cell_type": "markdown",
   "metadata": {},
   "source": [
    "분자 중심 표현, 분모 중심 표현"
   ]
  },
  {
   "cell_type": "markdown",
   "metadata": {},
   "source": [
    "## cs231n"
   ]
  },
  {
   "cell_type": "markdown",
   "metadata": {},
   "source": [
    "* f(x) = relu\n",
    "* 4096 input -> matrix -> 4096 output   \n",
    "* jacobian matrix size = (4096, 4096) \n",
    "* jacobian matrix = 너무 큼, sparse matrix(0이 많음), diagnoal(대각이 동일) \n",
    "\n"
   ]
  },
  {
   "cell_type": "markdown",
   "metadata": {},
   "source": [
    "example = f(x,W) = ||W * x||<sup>2</sup>"
   ]
  },
  {
   "cell_type": "markdown",
   "metadata": {},
   "source": [
    "cs231n 해당 파트에서 API : 해당 계산을 하기위해 구현된 source code "
   ]
  }
 ],
 "metadata": {
  "kernelspec": {
   "display_name": "Python 3.10.4 64-bit",
   "language": "python",
   "name": "python3"
  },
  "language_info": {
   "name": "python",
   "version": "3.10.4"
  },
  "orig_nbformat": 4,
  "vscode": {
   "interpreter": {
    "hash": "916dbcbb3f70747c44a77c7bcd40155683ae19c65e1c03b4aa3499c5328201f1"
   }
  }
 },
 "nbformat": 4,
 "nbformat_minor": 2
}
