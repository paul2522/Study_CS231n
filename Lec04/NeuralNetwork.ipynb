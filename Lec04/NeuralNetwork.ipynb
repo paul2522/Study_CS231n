{
 "cells": [
  {
   "cell_type": "markdown",
   "metadata": {},
   "source": [
    "NeuralNetwork"
   ]
  },
  {
   "cell_type": "markdown",
   "metadata": {},
   "source": [
    "* linear score function : f = W x\n",
    "* 2-layer NN : f = W<sub>2</sub>max(0, W<sub>1</sub>x)\n",
    "* relu 썼네"
   ]
  },
  {
   "cell_type": "markdown",
   "metadata": {},
   "source": [
    "* W는 마치 하나의 템플릿\n",
    "* 차 보면 빨간차 모양 같은거\n",
    "* 여기서 다중 레이어를 쓴다는건 W1으로 나온 h에 다시 가중치를 넣는 것\n",
    "* 이는 빨간 색 말고 다른 색의 차 또한 구분할 수 있는 것"
   ]
  },
  {
   "cell_type": "markdown",
   "metadata": {},
   "source": [
    "* NN은 사람의 뇌를 유추(analogy)\n",
    "* 하지만 뇌는 훨씬 더 복잡하게 신호를 계산(활성화 함수)\n",
    "* 그러니 NN은 과정이 유사하게 생각"
   ]
  },
  {
   "cell_type": "markdown",
   "metadata": {},
   "source": [
    "* 2-layer : matrix 계산이 2번 = 1-hidden"
   ]
  }
 ],
 "metadata": {
  "kernelspec": {
   "display_name": "Python 3.10.4 64-bit",
   "language": "python",
   "name": "python3"
  },
  "language_info": {
   "name": "python",
   "version": "3.10.4"
  },
  "orig_nbformat": 4,
  "vscode": {
   "interpreter": {
    "hash": "916dbcbb3f70747c44a77c7bcd40155683ae19c65e1c03b4aa3499c5328201f1"
   }
  }
 },
 "nbformat": 4,
 "nbformat_minor": 2
}
