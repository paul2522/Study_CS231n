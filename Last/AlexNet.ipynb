{
 "cells": [
  {
   "cell_type": "markdown",
   "metadata": {},
   "source": [
    "# AlexNet"
   ]
  },
  {
   "cell_type": "markdown",
   "metadata": {},
   "source": [
    "## 출현"
   ]
  },
  {
   "cell_type": "markdown",
   "metadata": {},
   "source": [
    "* ImageNet Classification Challenge"
   ]
  },
  {
   "cell_type": "markdown",
   "metadata": {},
   "source": [
    "1. Rule Base : 28~25% error\n",
    "2. Alexnet   : 16% error "
   ]
  },
  {
   "cell_type": "markdown",
   "metadata": {},
   "source": [
    "## 형태"
   ]
  },
  {
   "cell_type": "markdown",
   "metadata": {},
   "source": [
    "* 227 x 227 inputs\n",
    "* 5 Conv Layer\n",
    "* Maxpooling\n",
    "* 3 FCN\n",
    "* ReLU Activation\n",
    "* 2개의 GPU 병렬"
   ]
  },
  {
   "cell_type": "markdown",
   "metadata": {},
   "source": [
    "* 엄청난 인용수!"
   ]
  },
  {
   "cell_type": "markdown",
   "metadata": {},
   "source": [
    "### Layer"
   ]
  },
  {
   "cell_type": "markdown",
   "metadata": {},
   "source": [
    "Conv1\n",
    "* W` = (W - K + 2P) / S + 1 = 56\n",
    "* Parameter : filter 개수(64) * 채널 개수(3) * kernelsize(11 * 11) + bias(filter 개수 = 64)= 23296\n",
    "* 부동소수점 연산 곱하고 더하는 것을 몇번하는가\n",
    "* result = (* +)"
   ]
  },
  {
   "cell_type": "markdown",
   "metadata": {},
   "source": [
    "Maxpooling\n",
    "* 0.4 MFLOP\n",
    "* convolution이 계산량이 엄청나다"
   ]
  },
  {
   "cell_type": "markdown",
   "metadata": {},
   "source": [
    "Flatten\n",
    "*  256x6x6 = 9216"
   ]
  },
  {
   "cell_type": "markdown",
   "metadata": {},
   "source": [
    "FCN\n",
    "* Cin * Cout + Cout\n",
    "* 마지막 output은 1000"
   ]
  },
  {
   "cell_type": "markdown",
   "metadata": {},
   "source": [
    "## 어느 부분을 많이 사용할까?"
   ]
  },
  {
   "cell_type": "markdown",
   "metadata": {},
   "source": [
    "* 메모리 : 초기 부분일수록 많다.\n",
    "* parameter : FCN에서 많이 배운다.\n",
    "* floating-point ops : convolution이 파라미터에 비해 많다."
   ]
  },
  {
   "cell_type": "markdown",
   "metadata": {},
   "source": [
    "## ZFNET"
   ]
  },
  {
   "cell_type": "markdown",
   "metadata": {},
   "source": []
  }
 ],
 "metadata": {
  "kernelspec": {
   "display_name": "Python 3.10.4 64-bit",
   "language": "python",
   "name": "python3"
  },
  "language_info": {
   "name": "python",
   "version": "3.10.4"
  },
  "orig_nbformat": 4,
  "vscode": {
   "interpreter": {
    "hash": "916dbcbb3f70747c44a77c7bcd40155683ae19c65e1c03b4aa3499c5328201f1"
   }
  }
 },
 "nbformat": 4,
 "nbformat_minor": 2
}
