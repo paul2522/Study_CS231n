{
 "cells": [
  {
   "cell_type": "markdown",
   "metadata": {},
   "source": [
    "# Softmax"
   ]
  },
  {
   "cell_type": "markdown",
   "metadata": {},
   "source": [
    "multinomial logistic regression(다항분포선형회귀)에서 사용하는 softmax loss(책에서는 딥러닝 분류의 출력층에서 사용하는 함수)"
   ]
  },
  {
   "cell_type": "markdown",
   "metadata": {},
   "source": [
    "multi-class SVM loss를 보면 우린 점수가지고만은 해석을 할 수 없다."
   ]
  },
  {
   "cell_type": "markdown",
   "metadata": {},
   "source": [
    "우린 그래서 실제 점수를 원한다.  \n",
    "그래서 softmax로 나온 점수로 클래스 간의 확률을 구한다."
   ]
  },
  {
   "cell_type": "markdown",
   "metadata": {},
   "source": [
    "* softmax 값은 0~1이다.\n",
    "* 모든 클래스에 대한 softmax 점수의 합은 1이다."
   ]
  },
  {
   "cell_type": "markdown",
   "metadata": {},
   "source": [
    "정답 클래스에 대해서 1 나머진 0으로 해서 곱하므로 정답 클래스의 softmax 값만 구한다."
   ]
  },
  {
   "cell_type": "markdown",
   "metadata": {},
   "source": [
    "이 계산된 점수로 나온 확률 분포와 실제 확률 분포를 비교"
   ]
  },
  {
   "cell_type": "markdown",
   "metadata": {},
   "source": [
    "score가 다 0에 가까운 값이라면  \n",
    "exp 가 1,1,1  \n",
    "normalize 1/3, 1/3, 1/3  \n",
    "이는 -long(1/class number)"
   ]
  },
  {
   "cell_type": "markdown",
   "metadata": {},
   "source": [
    "* 고양이의 실제 확률은 1, 0, 0"
   ]
  },
  {
   "cell_type": "markdown",
   "metadata": {},
   "source": [
    "* softmax값을 통해 계산되는 것은 먼저 잘 맞춘다고 보는 것은 확률이 1에 가까워지기 때문에\n",
    "* loss를 -logP(정답 타겟)로 본다. - 이는 -log(1) = 0, -log(0.9) = 0.05, -log(0.1) = 1\n",
    "* 위처럼 확률이 낮아질 수록 loss 값이 증가되고 log가 단조함수라서 이렇게 설계\n",
    "* -log(probability of true class)"
   ]
  },
  {
   "cell_type": "markdown",
   "metadata": {},
   "source": [
    "* min : 0\n",
    "* max : 무한대"
   ]
  },
  {
   "cell_type": "markdown",
   "metadata": {},
   "source": [
    "loss의 최솟값 0 또는 최댓값 무한대가 나오려면  \n",
    "결국 score가 -무한대가 나와야하는데 이는 유한한 분류문제에서 나올 수 없다."
   ]
  },
  {
   "cell_type": "markdown",
   "metadata": {},
   "source": [
    "softmax VS SVM"
   ]
  },
  {
   "cell_type": "markdown",
   "metadata": {},
   "source": [
    "svm은 loss가 0에서 끝나고\n",
    "softmax 계속해서 올라감."
   ]
  }
 ],
 "metadata": {
  "kernelspec": {
   "display_name": "Python 3.10.4 64-bit",
   "language": "python",
   "name": "python3"
  },
  "language_info": {
   "name": "python",
   "version": "3.10.4"
  },
  "orig_nbformat": 4,
  "vscode": {
   "interpreter": {
    "hash": "916dbcbb3f70747c44a77c7bcd40155683ae19c65e1c03b4aa3499c5328201f1"
   }
  }
 },
 "nbformat": 4,
 "nbformat_minor": 2
}
