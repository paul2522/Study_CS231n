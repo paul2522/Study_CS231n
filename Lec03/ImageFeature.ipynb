{
 "cells": [
  {
   "cell_type": "markdown",
   "metadata": {},
   "source": [
    "# Image Feature "
   ]
  },
  {
   "cell_type": "markdown",
   "metadata": {},
   "source": [
    "* Linear Classifier\n",
    "* 그냥 픽셀 그대로 넣어서 feature를 정하고 그들을 연결"
   ]
  },
  {
   "cell_type": "markdown",
   "metadata": {},
   "source": [
    "특징들을 잘 분리해서 한줄로 세울 수 있으면 분류할 때 좋다.  \n",
    "다음은 feature representation의 대표적인 예시들"
   ]
  },
  {
   "cell_type": "markdown",
   "metadata": {},
   "source": [
    "* Color Histogram  \n",
    "1. 이미지에서 컬러들을 가져와서 hue color spectrum 에 넣는다.  \n",
    "2. 이를 통해 어떤 color들이 얼마나 있는지 알 수 있다."
   ]
  },
  {
   "cell_type": "markdown",
   "metadata": {},
   "source": [
    "* Histogram of Oriented Gradients(Hog)  \n",
    "1. 이미지를 픽셀 단위로 봤을때 테두리들의 방향을 히스토그램으로 구해서 표시한 것\n",
    "2. 개구리 다리밑에 보면 대각선 edge가 많으니 대각선 형태\n",
    "3. 이미지의 테두리들을 정리 할 수 있다."
   ]
  },
  {
   "cell_type": "markdown",
   "metadata": {},
   "source": [
    "* Bag of words  \n",
    "  - NLP에서 영감을 받은 것  \n",
    "1. 그림들에서 특정 부분들만 잘라서 가져옴\n",
    "2. K mean등을 통한 클러스터링을 통해 색들과 에지방향들이 나눠져 있는 codebook을 만듬\n",
    "3. 이미지를 codebook의 각 파트를 얼마나 사용하는지 표현"
   ]
  },
  {
   "cell_type": "markdown",
   "metadata": {},
   "source": [
    "* Image features vs ConvNets\n",
    "\n",
    "* 해당 84 페이지의 1번째 그림은 5~10년전의 image 분류의 파이프라인이다.\n",
    "1. feature representation\n",
    "2. feature들을 다 연결\n",
    "3. linear classifier에게 줌\n",
    "\n",
    "* 유의점\n",
    "1. feature extractor는 feature를 뽑아낸 뒤에 훈련 중에 update되지 않는다.\n",
    "2. 훈련 중에는 linear classifier 만 업데이트 함\n",
    "3. Convolutional neural networks를 보게 될건데 크게 다르지 않다.\n",
    "4. 그나마 다른점 데이터를 바로 CNN에 넣어서 서로 다른 많은 layer들을 통해 계산, linear classifier의 weight 말고 전체 네트워크의 weight를 계산\n"
   ]
  }
 ],
 "metadata": {
  "kernelspec": {
   "display_name": "Python 3.10.4 64-bit",
   "language": "python",
   "name": "python3"
  },
  "language_info": {
   "name": "python",
   "version": "3.10.4"
  },
  "orig_nbformat": 4,
  "vscode": {
   "interpreter": {
    "hash": "916dbcbb3f70747c44a77c7bcd40155683ae19c65e1c03b4aa3499c5328201f1"
   }
  }
 },
 "nbformat": 4,
 "nbformat_minor": 2
}
